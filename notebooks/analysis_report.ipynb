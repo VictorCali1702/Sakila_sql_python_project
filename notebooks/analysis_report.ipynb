{
 "cells": [
  {
   "cell_type": "markdown",
   "id": "d0ffbc6c",
   "metadata": {},
   "source": [
    "## Question 1 - Display all movies titles.\n",
    "\n",
    "## This query retrieves all movie titles available in the sakila database.\n",
    "## Table used = \"film\""
   ]
  },
  {
   "cell_type": "code",
   "execution_count": null,
   "id": "d06484cd",
   "metadata": {},
   "outputs": [],
   "source": [
    "import pandas as pd\n",
    "import mysql.connector\n",
    "\n",
    "conn = mysql.connector.connect(\n",
    "\thost = 'localhost',\n",
    "\tuser = 'root',\n",
    "\tpassword = '17wiknacAbc!',\n",
    "\tdatabase = 'sakila'\n",
    ")\n",
    "query_1 = \"\"\"\n",
    "Select title from film;\n",
    "\"\"\"\n",
    "df_titles = pd.read_sql(query_1, conn)\n",
    "\n",
    "df_titles.to_csv(\"../reports/Question1_movie_titles.csv\", index = False)"
   ]
  },
  {
   "cell_type": "code",
   "execution_count": 4,
   "id": "4936284e",
   "metadata": {},
   "outputs": [
    {
     "data": {
      "text/html": [
       "<div>\n",
       "<style scoped>\n",
       "    .dataframe tbody tr th:only-of-type {\n",
       "        vertical-align: middle;\n",
       "    }\n",
       "\n",
       "    .dataframe tbody tr th {\n",
       "        vertical-align: top;\n",
       "    }\n",
       "\n",
       "    .dataframe thead th {\n",
       "        text-align: right;\n",
       "    }\n",
       "</style>\n",
       "<table border=\"1\" class=\"dataframe\">\n",
       "  <thead>\n",
       "    <tr style=\"text-align: right;\">\n",
       "      <th></th>\n",
       "      <th>title</th>\n",
       "    </tr>\n",
       "  </thead>\n",
       "  <tbody>\n",
       "    <tr>\n",
       "      <th>0</th>\n",
       "      <td>ACADEMY DINOSAUR</td>\n",
       "    </tr>\n",
       "    <tr>\n",
       "      <th>1</th>\n",
       "      <td>ACE GOLDFINGER</td>\n",
       "    </tr>\n",
       "    <tr>\n",
       "      <th>2</th>\n",
       "      <td>ADAPTATION HOLES</td>\n",
       "    </tr>\n",
       "    <tr>\n",
       "      <th>3</th>\n",
       "      <td>AFFAIR PREJUDICE</td>\n",
       "    </tr>\n",
       "    <tr>\n",
       "      <th>4</th>\n",
       "      <td>AFRICAN EGG</td>\n",
       "    </tr>\n",
       "    <tr>\n",
       "      <th>5</th>\n",
       "      <td>AGENT TRUMAN</td>\n",
       "    </tr>\n",
       "    <tr>\n",
       "      <th>6</th>\n",
       "      <td>AIRPLANE SIERRA</td>\n",
       "    </tr>\n",
       "    <tr>\n",
       "      <th>7</th>\n",
       "      <td>AIRPORT POLLOCK</td>\n",
       "    </tr>\n",
       "    <tr>\n",
       "      <th>8</th>\n",
       "      <td>ALABAMA DEVIL</td>\n",
       "    </tr>\n",
       "    <tr>\n",
       "      <th>9</th>\n",
       "      <td>ALADDIN CALENDAR</td>\n",
       "    </tr>\n",
       "  </tbody>\n",
       "</table>\n",
       "</div>"
      ],
      "text/plain": [
       "              title\n",
       "0  ACADEMY DINOSAUR\n",
       "1    ACE GOLDFINGER\n",
       "2  ADAPTATION HOLES\n",
       "3  AFFAIR PREJUDICE\n",
       "4       AFRICAN EGG\n",
       "5      AGENT TRUMAN\n",
       "6   AIRPLANE SIERRA\n",
       "7   AIRPORT POLLOCK\n",
       "8     ALABAMA DEVIL\n",
       "9  ALADDIN CALENDAR"
      ]
     },
     "execution_count": 4,
     "metadata": {},
     "output_type": "execute_result"
    }
   ],
   "source": [
    "df_titles.head(10)"
   ]
  },
  {
   "cell_type": "markdown",
   "id": "d4bf8a67",
   "metadata": {},
   "source": [
    "## Question 2 - Show list of unique video categories.\n",
    "\n",
    "## This query retrieves all unique video categories available in the sakila database.\n",
    "## Table used = \"category\""
   ]
  },
  {
   "cell_type": "code",
   "execution_count": null,
   "id": "86362ccd",
   "metadata": {},
   "outputs": [],
   "source": [
    "import pandas as pd\n",
    "import mysql.connector\n",
    "\n",
    "conn = mysql.connector.connect(\n",
    "\thost = 'localhost',\n",
    "\tuser = 'root',\n",
    "\tpassword = '17wiknacAbc!',\n",
    "\tdatabase = 'sakila'\n",
    ")\n",
    "query_2 = \"\"\"\n",
    "Select distinct name from category;\n",
    "\"\"\"\n",
    "df_category = pd.read_sql(query_2, conn)\n",
    "\n",
    "df_category.to_csv(\"../reports/Question2_video_categories.csv\", index = False)"
   ]
  },
  {
   "cell_type": "code",
   "execution_count": 7,
   "id": "2060747e",
   "metadata": {},
   "outputs": [
    {
     "data": {
      "text/html": [
       "<div>\n",
       "<style scoped>\n",
       "    .dataframe tbody tr th:only-of-type {\n",
       "        vertical-align: middle;\n",
       "    }\n",
       "\n",
       "    .dataframe tbody tr th {\n",
       "        vertical-align: top;\n",
       "    }\n",
       "\n",
       "    .dataframe thead th {\n",
       "        text-align: right;\n",
       "    }\n",
       "</style>\n",
       "<table border=\"1\" class=\"dataframe\">\n",
       "  <thead>\n",
       "    <tr style=\"text-align: right;\">\n",
       "      <th></th>\n",
       "      <th>name</th>\n",
       "    </tr>\n",
       "  </thead>\n",
       "  <tbody>\n",
       "    <tr>\n",
       "      <th>0</th>\n",
       "      <td>Action</td>\n",
       "    </tr>\n",
       "    <tr>\n",
       "      <th>1</th>\n",
       "      <td>Animation</td>\n",
       "    </tr>\n",
       "    <tr>\n",
       "      <th>2</th>\n",
       "      <td>Children</td>\n",
       "    </tr>\n",
       "    <tr>\n",
       "      <th>3</th>\n",
       "      <td>Classics</td>\n",
       "    </tr>\n",
       "    <tr>\n",
       "      <th>4</th>\n",
       "      <td>Comedy</td>\n",
       "    </tr>\n",
       "    <tr>\n",
       "      <th>5</th>\n",
       "      <td>Documentary</td>\n",
       "    </tr>\n",
       "    <tr>\n",
       "      <th>6</th>\n",
       "      <td>Drama</td>\n",
       "    </tr>\n",
       "    <tr>\n",
       "      <th>7</th>\n",
       "      <td>Family</td>\n",
       "    </tr>\n",
       "    <tr>\n",
       "      <th>8</th>\n",
       "      <td>Foreign</td>\n",
       "    </tr>\n",
       "    <tr>\n",
       "      <th>9</th>\n",
       "      <td>Games</td>\n",
       "    </tr>\n",
       "  </tbody>\n",
       "</table>\n",
       "</div>"
      ],
      "text/plain": [
       "          name\n",
       "0       Action\n",
       "1    Animation\n",
       "2     Children\n",
       "3     Classics\n",
       "4       Comedy\n",
       "5  Documentary\n",
       "6        Drama\n",
       "7       Family\n",
       "8      Foreign\n",
       "9        Games"
      ]
     },
     "execution_count": 7,
     "metadata": {},
     "output_type": "execute_result"
    }
   ],
   "source": [
    "df_category.head(10)"
   ]
  },
  {
   "cell_type": "markdown",
   "id": "f630a908",
   "metadata": {},
   "source": [
    "## Question 3 - Number movies in each category.\n",
    "\n",
    "## Display how many films exist in each category.\n",
    "## Table used = \"film, film_category, category\""
   ]
  },
  {
   "cell_type": "code",
   "execution_count": 9,
   "id": "87c518c5",
   "metadata": {},
   "outputs": [
    {
     "name": "stderr",
     "output_type": "stream",
     "text": [
      "C:\\Users\\48508\\AppData\\Local\\Temp\\ipykernel_34972\\3370681282.py:11: UserWarning: pandas only supports SQLAlchemy connectable (engine/connection) or database string URI or sqlite3 DBAPI2 connection. Other DBAPI2 objects are not tested. Please consider using SQLAlchemy.\n",
      "  df_numberMovies = pd.read_sql(query_3, conn)\n"
     ]
    }
   ],
   "source": [
    "import pandas as pd\n",
    "import mysql.connector\n",
    "\n",
    "query_3 = \"\"\"\n",
    "Select c.name AS category, Count(f.film_id) AS film_count\n",
    "from film f\n",
    "JOIN film_category fc ON f.film_id = fc.film_id\n",
    "JOIN category c ON c.category_id = fc.category_id\n",
    "Group by c.name;\n",
    "\"\"\"\n",
    "df_numberMovies = pd.read_sql(query_3, conn)\n",
    "df_numberMovies.to_csv(\"../reports/Question3_Number_Movies.csv\", index = False)"
   ]
  },
  {
   "cell_type": "code",
   "execution_count": 11,
   "id": "dd2e36d1",
   "metadata": {},
   "outputs": [
    {
     "data": {
      "text/html": [
       "<div>\n",
       "<style scoped>\n",
       "    .dataframe tbody tr th:only-of-type {\n",
       "        vertical-align: middle;\n",
       "    }\n",
       "\n",
       "    .dataframe tbody tr th {\n",
       "        vertical-align: top;\n",
       "    }\n",
       "\n",
       "    .dataframe thead th {\n",
       "        text-align: right;\n",
       "    }\n",
       "</style>\n",
       "<table border=\"1\" class=\"dataframe\">\n",
       "  <thead>\n",
       "    <tr style=\"text-align: right;\">\n",
       "      <th></th>\n",
       "      <th>category</th>\n",
       "      <th>film_count</th>\n",
       "    </tr>\n",
       "  </thead>\n",
       "  <tbody>\n",
       "    <tr>\n",
       "      <th>0</th>\n",
       "      <td>Action</td>\n",
       "      <td>64</td>\n",
       "    </tr>\n",
       "    <tr>\n",
       "      <th>1</th>\n",
       "      <td>Animation</td>\n",
       "      <td>66</td>\n",
       "    </tr>\n",
       "    <tr>\n",
       "      <th>2</th>\n",
       "      <td>Children</td>\n",
       "      <td>60</td>\n",
       "    </tr>\n",
       "    <tr>\n",
       "      <th>3</th>\n",
       "      <td>Classics</td>\n",
       "      <td>57</td>\n",
       "    </tr>\n",
       "    <tr>\n",
       "      <th>4</th>\n",
       "      <td>Comedy</td>\n",
       "      <td>58</td>\n",
       "    </tr>\n",
       "  </tbody>\n",
       "</table>\n",
       "</div>"
      ],
      "text/plain": [
       "    category  film_count\n",
       "0     Action          64\n",
       "1  Animation          66\n",
       "2   Children          60\n",
       "3   Classics          57\n",
       "4     Comedy          58"
      ]
     },
     "execution_count": 11,
     "metadata": {},
     "output_type": "execute_result"
    }
   ],
   "source": [
    "df_numberMovies.head(5)"
   ]
  },
  {
   "cell_type": "markdown",
   "id": "c4d62aa5",
   "metadata": {},
   "source": [
    "## Question 4 - Show actors whose last name starts with \"S\".\n",
    "\n",
    "## Lists all actors whose last names begin with the letter \"S\".\n",
    "## Table used = \"actor\""
   ]
  },
  {
   "cell_type": "code",
   "execution_count": 12,
   "id": "f4c3a472",
   "metadata": {},
   "outputs": [
    {
     "name": "stderr",
     "output_type": "stream",
     "text": [
      "C:\\Users\\48508\\AppData\\Local\\Temp\\ipykernel_34972\\4040984064.py:4: UserWarning: pandas only supports SQLAlchemy connectable (engine/connection) or database string URI or sqlite3 DBAPI2 connection. Other DBAPI2 objects are not tested. Please consider using SQLAlchemy.\n",
      "  df_lastName = pd.read_sql(query_4, conn)\n"
     ]
    }
   ],
   "source": [
    "query_4 = \"\"\"\n",
    "Select first_name, last_name from actor Where last_name LIKE '%s';\n",
    "\"\"\"\n",
    "df_lastName = pd.read_sql(query_4, conn)\n",
    "df_lastName.to_csv(\"../reports/Question4_lastName_actor.csv\", index = False)"
   ]
  },
  {
   "cell_type": "code",
   "execution_count": 15,
   "id": "ef2d53d8",
   "metadata": {},
   "outputs": [
    {
     "data": {
      "text/html": [
       "<div>\n",
       "<style scoped>\n",
       "    .dataframe tbody tr th:only-of-type {\n",
       "        vertical-align: middle;\n",
       "    }\n",
       "\n",
       "    .dataframe tbody tr th {\n",
       "        vertical-align: top;\n",
       "    }\n",
       "\n",
       "    .dataframe thead th {\n",
       "        text-align: right;\n",
       "    }\n",
       "</style>\n",
       "<table border=\"1\" class=\"dataframe\">\n",
       "  <thead>\n",
       "    <tr style=\"text-align: right;\">\n",
       "      <th></th>\n",
       "      <th>first_name</th>\n",
       "      <th>last_name</th>\n",
       "    </tr>\n",
       "  </thead>\n",
       "  <tbody>\n",
       "    <tr>\n",
       "      <th>0</th>\n",
       "      <td>PENELOPE</td>\n",
       "      <td>GUINESS</td>\n",
       "    </tr>\n",
       "    <tr>\n",
       "      <th>1</th>\n",
       "      <td>JENNIFER</td>\n",
       "      <td>DAVIS</td>\n",
       "    </tr>\n",
       "    <tr>\n",
       "      <th>2</th>\n",
       "      <td>BURT</td>\n",
       "      <td>DUKAKIS</td>\n",
       "    </tr>\n",
       "    <tr>\n",
       "      <th>3</th>\n",
       "      <td>JODIE</td>\n",
       "      <td>DEGENERES</td>\n",
       "    </tr>\n",
       "    <tr>\n",
       "      <th>4</th>\n",
       "      <td>FRANCES</td>\n",
       "      <td>DAY-LEWIS</td>\n",
       "    </tr>\n",
       "  </tbody>\n",
       "</table>\n",
       "</div>"
      ],
      "text/plain": [
       "  first_name  last_name\n",
       "0   PENELOPE    GUINESS\n",
       "1   JENNIFER      DAVIS\n",
       "2       BURT    DUKAKIS\n",
       "3      JODIE  DEGENERES\n",
       "4    FRANCES  DAY-LEWIS"
      ]
     },
     "execution_count": 15,
     "metadata": {},
     "output_type": "execute_result"
    }
   ],
   "source": [
    "df_lastName.head(5)\n"
   ]
  },
  {
   "cell_type": "markdown",
   "id": "0e5416ff",
   "metadata": {},
   "source": [
    "## Question 5 - List films with their main actors.\n",
    "\n",
    "## Displays each film with the names of its actors.\n",
    "## Table used = \"film, film_actor, actor\""
   ]
  },
  {
   "cell_type": "code",
   "execution_count": 17,
   "id": "7e600583",
   "metadata": {},
   "outputs": [
    {
     "name": "stderr",
     "output_type": "stream",
     "text": [
      "C:\\Users\\48508\\AppData\\Local\\Temp\\ipykernel_34972\\2025731911.py:7: UserWarning: pandas only supports SQLAlchemy connectable (engine/connection) or database string URI or sqlite3 DBAPI2 connection. Other DBAPI2 objects are not tested. Please consider using SQLAlchemy.\n",
      "  df_mainActors = pd.read_sql(query_5, conn)\n"
     ]
    }
   ],
   "source": [
    "query_5 = \"\"\"\n",
    "select f.title, a.first_name, a.last_name\n",
    "from film f\n",
    "JOIN film_actor fa ON f.film_id = fa.film_id\n",
    "JOIN actor a ON a.actor_id = fa.actor_id;\n",
    "\"\"\"\n",
    "df_mainActors = pd.read_sql(query_5, conn)\n",
    "df_mainActors.to_csv(\"../reports/Question5_mainActors.csv\", index = False)"
   ]
  },
  {
   "cell_type": "code",
   "execution_count": 19,
   "id": "b872aaaa",
   "metadata": {},
   "outputs": [
    {
     "data": {
      "text/html": [
       "<div>\n",
       "<style scoped>\n",
       "    .dataframe tbody tr th:only-of-type {\n",
       "        vertical-align: middle;\n",
       "    }\n",
       "\n",
       "    .dataframe tbody tr th {\n",
       "        vertical-align: top;\n",
       "    }\n",
       "\n",
       "    .dataframe thead th {\n",
       "        text-align: right;\n",
       "    }\n",
       "</style>\n",
       "<table border=\"1\" class=\"dataframe\">\n",
       "  <thead>\n",
       "    <tr style=\"text-align: right;\">\n",
       "      <th></th>\n",
       "      <th>title</th>\n",
       "      <th>first_name</th>\n",
       "      <th>last_name</th>\n",
       "    </tr>\n",
       "  </thead>\n",
       "  <tbody>\n",
       "    <tr>\n",
       "      <th>0</th>\n",
       "      <td>ACADEMY DINOSAUR</td>\n",
       "      <td>PENELOPE</td>\n",
       "      <td>GUINESS</td>\n",
       "    </tr>\n",
       "    <tr>\n",
       "      <th>1</th>\n",
       "      <td>ANACONDA CONFESSIONS</td>\n",
       "      <td>PENELOPE</td>\n",
       "      <td>GUINESS</td>\n",
       "    </tr>\n",
       "    <tr>\n",
       "      <th>2</th>\n",
       "      <td>ANGELS LIFE</td>\n",
       "      <td>PENELOPE</td>\n",
       "      <td>GUINESS</td>\n",
       "    </tr>\n",
       "    <tr>\n",
       "      <th>3</th>\n",
       "      <td>BULWORTH COMMANDMENTS</td>\n",
       "      <td>PENELOPE</td>\n",
       "      <td>GUINESS</td>\n",
       "    </tr>\n",
       "    <tr>\n",
       "      <th>4</th>\n",
       "      <td>CHEAPER CLYDE</td>\n",
       "      <td>PENELOPE</td>\n",
       "      <td>GUINESS</td>\n",
       "    </tr>\n",
       "  </tbody>\n",
       "</table>\n",
       "</div>"
      ],
      "text/plain": [
       "                   title first_name last_name\n",
       "0       ACADEMY DINOSAUR   PENELOPE   GUINESS\n",
       "1   ANACONDA CONFESSIONS   PENELOPE   GUINESS\n",
       "2            ANGELS LIFE   PENELOPE   GUINESS\n",
       "3  BULWORTH COMMANDMENTS   PENELOPE   GUINESS\n",
       "4          CHEAPER CLYDE   PENELOPE   GUINESS"
      ]
     },
     "execution_count": 19,
     "metadata": {},
     "output_type": "execute_result"
    }
   ],
   "source": [
    "df_mainActors.head()"
   ]
  },
  {
   "cell_type": "markdown",
   "id": "c116c880",
   "metadata": {},
   "source": [
    "## Question 6 - Comedy films longer than 100 minutes.\n",
    "\n",
    "## Show all comedy movies longer than 100 minutes.\n",
    "## Table used = \"film, film_category, category\""
   ]
  },
  {
   "cell_type": "code",
   "execution_count": 20,
   "id": "1436f56e",
   "metadata": {},
   "outputs": [
    {
     "name": "stderr",
     "output_type": "stream",
     "text": [
      "C:\\Users\\48508\\AppData\\Local\\Temp\\ipykernel_34972\\3982756131.py:8: UserWarning: pandas only supports SQLAlchemy connectable (engine/connection) or database string URI or sqlite3 DBAPI2 connection. Other DBAPI2 objects are not tested. Please consider using SQLAlchemy.\n",
      "  df_comedyFilms = pd.read_sql(query_6, conn)\n"
     ]
    }
   ],
   "source": [
    "query_6 = \"\"\"\n",
    "Select f.title, f.length\n",
    "from film f\n",
    "JOIN film_category fc ON f.film_id = fc.film_id\n",
    "JOIN category c ON c.category_id = fc.category_id\n",
    "WHERE c.name = 'Comedy' AND length > 100;\n",
    "\"\"\"\n",
    "df_comedyFilms = pd.read_sql(query_6, conn)\n",
    "df_comedyFilms.to_csv(\"../reports/Question6_Comedy_Films.csv\", index = False)"
   ]
  },
  {
   "cell_type": "code",
   "execution_count": 22,
   "id": "14cb2f7d",
   "metadata": {},
   "outputs": [
    {
     "data": {
      "text/html": [
       "<div>\n",
       "<style scoped>\n",
       "    .dataframe tbody tr th:only-of-type {\n",
       "        vertical-align: middle;\n",
       "    }\n",
       "\n",
       "    .dataframe tbody tr th {\n",
       "        vertical-align: top;\n",
       "    }\n",
       "\n",
       "    .dataframe thead th {\n",
       "        text-align: right;\n",
       "    }\n",
       "</style>\n",
       "<table border=\"1\" class=\"dataframe\">\n",
       "  <thead>\n",
       "    <tr style=\"text-align: right;\">\n",
       "      <th></th>\n",
       "      <th>title</th>\n",
       "      <th>length</th>\n",
       "    </tr>\n",
       "  </thead>\n",
       "  <tbody>\n",
       "    <tr>\n",
       "      <th>0</th>\n",
       "      <td>BRINGING HYSTERICAL</td>\n",
       "      <td>136</td>\n",
       "    </tr>\n",
       "    <tr>\n",
       "      <th>1</th>\n",
       "      <td>CAPER MOTIONS</td>\n",
       "      <td>176</td>\n",
       "    </tr>\n",
       "    <tr>\n",
       "      <th>2</th>\n",
       "      <td>CAT CONEHEADS</td>\n",
       "      <td>112</td>\n",
       "    </tr>\n",
       "    <tr>\n",
       "      <th>3</th>\n",
       "      <td>CONNECTION MICROCOSMOS</td>\n",
       "      <td>115</td>\n",
       "    </tr>\n",
       "    <tr>\n",
       "      <th>4</th>\n",
       "      <td>CONTROL ANTHEM</td>\n",
       "      <td>185</td>\n",
       "    </tr>\n",
       "  </tbody>\n",
       "</table>\n",
       "</div>"
      ],
      "text/plain": [
       "                    title  length\n",
       "0     BRINGING HYSTERICAL     136\n",
       "1           CAPER MOTIONS     176\n",
       "2           CAT CONEHEADS     112\n",
       "3  CONNECTION MICROCOSMOS     115\n",
       "4          CONTROL ANTHEM     185"
      ]
     },
     "execution_count": 22,
     "metadata": {},
     "output_type": "execute_result"
    }
   ],
   "source": [
    "df_comedyFilms.head()"
   ]
  }
 ],
 "metadata": {
  "kernelspec": {
   "display_name": "Python 3",
   "language": "python",
   "name": "python3"
  },
  "language_info": {
   "codemirror_mode": {
    "name": "ipython",
    "version": 3
   },
   "file_extension": ".py",
   "mimetype": "text/x-python",
   "name": "python",
   "nbconvert_exporter": "python",
   "pygments_lexer": "ipython3",
   "version": "3.13.3"
  }
 },
 "nbformat": 4,
 "nbformat_minor": 5
}
